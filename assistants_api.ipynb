{
 "cells": [
  {
   "cell_type": "code",
   "execution_count": 39,
   "metadata": {},
   "outputs": [],
   "source": [
    "from openai import OpenAI\n",
    "import pandas as pd\n",
    "from dotenv import load_dotenv\n",
    "import os\n",
    "\n",
    "load_dotenv()\n",
    "\n",
    "client = OpenAI(api_key=os.getenv(\"OPENAI_API_KEY\"))"
   ]
  },
  {
   "cell_type": "code",
   "execution_count": 40,
   "metadata": {},
   "outputs": [],
   "source": [
    "# Step 1: Upload CSV file\n",
    "file = client.files.create(\n",
    "    file=open(\"HR_Data.csv\", \"rb\"),\n",
    "    purpose=\"assistants\"\n",
    ")"
   ]
  },
  {
   "cell_type": "code",
   "execution_count": 41,
   "metadata": {},
   "outputs": [],
   "source": [
    "# Step 2: Create an Assistant with Code Interpreter\n",
    "assistant = client.beta.assistants.create(\n",
    "  name=\"Data Analyst\",\n",
    "  instructions=\"Analyze CSV data. Generate insights, stats, and visualizations.\",\n",
    "  tools= [{\"type\": \"code_interpreter\"}],\n",
    "  model=\"gpt-4-turbo\"\n",
    ")"
   ]
  },
  {
   "cell_type": "code",
   "execution_count": 54,
   "metadata": {},
   "outputs": [],
   "source": [
    "# Step 3: Create a Thread and Ask Questions\n",
    "thread = client.beta.threads.create()\n",
    "message = client.beta.threads.messages.create(\n",
    "  thread_id=thread.id,\n",
    "  role=\"user\",\n",
    "  content=\"Give me a list of possible simple and complex queries I can run on this dataset.\",\n",
    "  attachments=[\n",
    "      {\n",
    "          \"file_id\": file.id,\n",
    "          \"tools\": [{\"type\": \"code_interpreter\"}]\n",
    "      }\n",
    "  ]\n",
    ")"
   ]
  },
  {
   "cell_type": "code",
   "execution_count": 55,
   "metadata": {},
   "outputs": [],
   "source": [
    "run = client.beta.threads.runs.create(\n",
    "  thread_id=thread.id,\n",
    "  assistant_id=assistant.id\n",
    ")"
   ]
  },
  {
   "cell_type": "code",
   "execution_count": 56,
   "metadata": {},
   "outputs": [],
   "source": [
    "# Poll for completion and display results\n",
    "while run.status != \"completed\":\n",
    "  run = client.beta.threads.runs.retrieve(\n",
    "    thread_id=thread.id,\n",
    "    run_id=run.id\n",
    "  )"
   ]
  },
  {
   "cell_type": "code",
   "execution_count": null,
   "metadata": {},
   "outputs": [
    {
     "name": "stdout",
     "output_type": "stream",
     "text": [
      "[TextContentBlock(text=Text(annotations=[], value=\"The dataset appears to contain various attributes related to employee data, such as demographic, job-related, and performance metrics. Here are some example queries we can run, categorized into simple and complex ones:\\n\\n### Simple Queries:\\n1. **Count of Employees by Gender**: Determine the distribution of employees by gender.\\n2. **Average Monthly Income by Department**: Compute the average monthly income in each department.\\n3. **Employee Counts by Job Role**: List how many employees exist per job role.\\n4. **Attrition Rate**: Calculate the attrition rate (percentage of employees who left the company).\\n5. **Average Age of Employees**: Determine the average age of the workforce.\\n\\n### Complex Queries:\\n1. **Histogram of Age and Income**: Provide a visual plot showing the distribution of ages and corresponding average incomes.\\n2. **Attrition Rates by Department and Gender**: Break down attrition rates by department and gender to see if certain departments or genders are more prone to leave.\\n3. **Correlation between Job Satisfaction and Attrition**: Analyze if there’s a correlation between job satisfaction levels and employee attrition.\\n4. **Average Years at Company Before Promotion**: Calculate the average number of years an employee stays in the company before receiving a promotion.\\n5. **Employee Turnover Prediction**: Utilize machine learning techniques to predict potential employee turnover based on the provided attributes.\\n\\nLet me know which queries you are interested in, or if there are other specific analyses or aggregations you'd like to explore based on this data.\"), type='text')]\n",
      "The dataset appears to contain various attributes related to employee data, such as demographic, job-related, and performance metrics. Here are some example queries we can run, categorized into simple and complex ones:\n",
      "\n",
      "### Simple Queries:\n",
      "1. **Count of Employees by Gender**: Determine the distribution of employees by gender.\n",
      "2. **Average Monthly Income by Department**: Compute the average monthly income in each department.\n",
      "3. **Employee Counts by Job Role**: List how many employees exist per job role.\n",
      "4. **Attrition Rate**: Calculate the attrition rate (percentage of employees who left the company).\n",
      "5. **Average Age of Employees**: Determine the average age of the workforce.\n",
      "\n",
      "### Complex Queries:\n",
      "1. **Histogram of Age and Income**: Provide a visual plot showing the distribution of ages and corresponding average incomes.\n",
      "2. **Attrition Rates by Department and Gender**: Break down attrition rates by department and gender to see if certain departments or genders are more prone to leave.\n",
      "3. **Correlation between Job Satisfaction and Attrition**: Analyze if there’s a correlation between job satisfaction levels and employee attrition.\n",
      "4. **Average Years at Company Before Promotion**: Calculate the average number of years an employee stays in the company before receiving a promotion.\n",
      "5. **Employee Turnover Prediction**: Utilize machine learning techniques to predict potential employee turnover based on the provided attributes.\n",
      "\n",
      "Let me know which queries you are interested in, or if there are other specific analyses or aggregations you'd like to explore based on this data.\n"
     ]
    }
   ],
   "source": [
    "messages = client.beta.threads.messages.list(thread_id=thread.id)\n",
    "print(messages.data[0].content)\n",
    "print(messages.data[0].content[0].text.value)"
   ]
  },
  {
   "cell_type": "code",
   "execution_count": null,
   "metadata": {},
   "outputs": [],
   "source": []
  }
 ],
 "metadata": {
  "kernelspec": {
   "display_name": "venv",
   "language": "python",
   "name": "python3"
  },
  "language_info": {
   "codemirror_mode": {
    "name": "ipython",
    "version": 3
   },
   "file_extension": ".py",
   "mimetype": "text/x-python",
   "name": "python",
   "nbconvert_exporter": "python",
   "pygments_lexer": "ipython3",
   "version": "3.10.9"
  }
 },
 "nbformat": 4,
 "nbformat_minor": 2
}
